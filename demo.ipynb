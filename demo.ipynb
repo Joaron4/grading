{
 "cells": [
  {
   "cell_type": "markdown",
   "id": "30218884",
   "metadata": {},
   "source": [
    "\n",
    "```\n",
    "BEGIN ASSIGNMENT\n",
    "generate: true\n",
    "test_files: false\n",
    "export_cell:                  \n",
    "  instructions: ''             \n",
    "  pdf: false                  \n",
    "  filtering: false             \n",
    "  force_save: false            \n",
    "  run_tests: false \n",
    "\n",
    "```"
   ]
  },
  {
   "cell_type": "markdown",
   "id": "dffba298",
   "metadata": {},
   "source": [
    "Pregunta 1\n",
    "\n",
    "```\n",
    "BEGIN QUESTION\n",
    "name: q1\n",
    "```"
   ]
  },
  {
   "cell_type": "code",
   "execution_count": 2,
   "id": "865c565a",
   "metadata": {},
   "outputs": [],
   "source": [
    "hola_mundo = 'Hola Mundo' #SOLUTION"
   ]
  },
  {
   "cell_type": "code",
   "execution_count": 3,
   "id": "bb14fdbd",
   "metadata": {},
   "outputs": [
    {
     "data": {
      "text/plain": [
       "True"
      ]
     },
     "execution_count": 3,
     "metadata": {},
     "output_type": "execute_result"
    }
   ],
   "source": [
    "\"\"\" # BEGIN TEST CONFIG\n",
    "points: 1\n",
    "failure_message: Pendejo\n",
    "success_message: Good job!\n",
    "\"\"\" # END TEST CONFIG\n",
    "type(hola_mundo) == str"
   ]
  },
  {
   "cell_type": "code",
   "execution_count": null,
   "id": "1f35ab68",
   "metadata": {},
   "outputs": [],
   "source": []
  }
 ],
 "metadata": {
  "kernelspec": {
   "display_name": "Python 3",
   "language": "python",
   "name": "python3"
  },
  "language_info": {
   "codemirror_mode": {
    "name": "ipython",
    "version": 3
   },
   "file_extension": ".py",
   "mimetype": "text/x-python",
   "name": "python",
   "nbconvert_exporter": "python",
   "pygments_lexer": "ipython3",
   "version": "3.8.8"
  }
 },
 "nbformat": 4,
 "nbformat_minor": 5
}
