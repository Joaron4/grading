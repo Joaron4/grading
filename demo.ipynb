{
 "cells": [
  {
   "cell_type": "code",
   "execution_count": 1,
   "id": "2cdbda8b",
   "metadata": {
    "deletable": false,
    "editable": false
   },
   "outputs": [],
   "source": [
    "# Initialize Otter\n",
    "import otter\n",
    "grader = otter.Notebook(\"demo.ipynb\")"
   ]
  },
  {
   "cell_type": "markdown",
   "id": "e751ef1f",
   "metadata": {},
   "source": [
    "Pregunta 1\n"
   ]
  },
  {
   "cell_type": "code",
   "execution_count": 6,
   "id": "381dd37e",
   "metadata": {
    "tags": []
   },
   "outputs": [],
   "source": [
    "hola_mundo = 'Hola Mundo'"
   ]
  },
  {
   "cell_type": "code",
   "execution_count": 7,
   "id": "c9fd14db",
   "metadata": {
    "deletable": false,
    "editable": false
   },
   "outputs": [
    {
     "data": {
      "text/html": [
       "<p><strong><pre style='display: inline;'>q_1</pre></strong> passed!</p><p><strong><pre style='display: inline;'>q_1 - 1</pre> message:</strong> Good job!</p>"
      ],
      "text/plain": [
       "q_1 results: All test cases passed!\n",
       "q_1 - 1 message: Good job!"
      ]
     },
     "execution_count": 7,
     "metadata": {},
     "output_type": "execute_result"
    }
   ],
   "source": [
    "grader.check(\"q_1\")"
   ]
  },
  {
   "cell_type": "markdown",
   "id": "124f88fb",
   "metadata": {
    "deletable": false,
    "editable": false
   },
   "source": [
    "## Submission\n",
    "\n",
    "Make sure you have run all cells in your notebook in order before running the cell below, so that all images/graphs appear in the output. The cell below will generate a zip file for you to submit. **Please save before exporting!**"
   ]
  },
  {
   "cell_type": "code",
   "execution_count": null,
   "id": "7bce4474",
   "metadata": {
    "deletable": false,
    "editable": false
   },
   "outputs": [],
   "source": [
    "# Save your notebook first, then run this cell to export your submission.\n",
    "grader.export(run_tests=True)"
   ]
  },
  {
   "cell_type": "markdown",
   "id": "7734a487",
   "metadata": {},
   "source": [
    " "
   ]
  }
 ],
 "metadata": {
  "kernelspec": {
   "display_name": "Python 3",
   "language": "python",
   "name": "python3"
  },
  "language_info": {
   "codemirror_mode": {
    "name": "ipython",
    "version": 3
   },
   "file_extension": ".py",
   "mimetype": "text/x-python",
   "name": "python",
   "nbconvert_exporter": "python",
   "pygments_lexer": "ipython3",
   "version": "3.8.8"
  },
  "otter": {
   "OK_FORMAT": true,
   "tests": {
    "q_1": {
     "name": "q_1",
     "points": null,
     "suites": [
      {
       "cases": [
        {
         "code": ">>> type(hola_mundo) == str\nTrue",
         "hidden": false,
         "locked": false,
         "points": 1,
         "success_message": "Good job!"
        }
       ],
       "scored": true,
       "setup": "",
       "teardown": "",
       "type": "doctest"
      }
     ]
    }
   }
  }
 },
 "nbformat": 4,
 "nbformat_minor": 5
}
